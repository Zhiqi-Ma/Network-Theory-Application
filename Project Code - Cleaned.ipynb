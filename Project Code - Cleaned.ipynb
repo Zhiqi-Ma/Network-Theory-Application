{
 "cells": [
  {
   "cell_type": "markdown",
   "id": "70707ef2",
   "metadata": {},
   "source": [
    "## Data Generation"
   ]
  },
  {
   "cell_type": "code",
   "execution_count": 1,
   "id": "d89cccba",
   "metadata": {},
   "outputs": [],
   "source": [
    "def split_into_nodes(s):\n",
    "    nodes = ['C', 'G', 'Am', 'F']\n",
    "    split_nodes = []\n",
    "    i = 0\n",
    "\n",
    "    while i < len(s):\n",
    "        for node in nodes:\n",
    "            if s[i:].startswith(node):\n",
    "                split_nodes.append(node)\n",
    "                i += len(node)\n",
    "                break\n",
    "\n",
    "    return split_nodes"
   ]
  },
  {
   "cell_type": "code",
   "execution_count": 2,
   "id": "861f12ad",
   "metadata": {},
   "outputs": [],
   "source": [
    "sequence = \"AmGCCAmGCCAmGCCAmGCCAmGCCAmGCCAmGCCAmGCCAmGCCAmGCCAmGCCAmGCCAmGCCAmGCCAmGCCAmGCCAmGCCAmGCCAmGCCAmGCCAmGCCAmGCCAmGCFAmGCFAmGCAmGCAmGCCAmGCCAmGCCAmGCCAmGCCAmGCCAmGCCAmGCCAmGCCAmGCCAmGCCAmGCCAmGCC\""
   ]
  },
  {
   "cell_type": "code",
   "execution_count": 3,
   "id": "694d4022",
   "metadata": {},
   "outputs": [],
   "source": [
    "nodes_sequence = split_into_nodes(sequence)\n",
    "\n",
    "three_node_sequences = [''.join(nodes_sequence[i:i+3]) for i in range(len(nodes_sequence) - 2)]\n",
    "\n",
    "# three_node_sequences"
   ]
  },
  {
   "cell_type": "code",
   "execution_count": 4,
   "id": "b361a0d2",
   "metadata": {},
   "outputs": [],
   "source": [
    "import pandas as pd\n",
    "matrix_1 = pd.read_csv('/Users/judyz/Downloads/168 Project/all_too_well.csv', header=0)\n",
    "matrix_1.set_index(matrix_1.columns[0], inplace=True)"
   ]
  },
  {
   "cell_type": "markdown",
   "id": "b267bbd1",
   "metadata": {},
   "source": [
    "## wasserstein distance (earth mover)"
   ]
  },
  {
   "cell_type": "code",
   "execution_count": 5,
   "id": "24c426be",
   "metadata": {
    "scrolled": true
   },
   "outputs": [
    {
     "data": {
      "text/html": [
       "<div>\n",
       "<style scoped>\n",
       "    .dataframe tbody tr th:only-of-type {\n",
       "        vertical-align: middle;\n",
       "    }\n",
       "\n",
       "    .dataframe tbody tr th {\n",
       "        vertical-align: top;\n",
       "    }\n",
       "\n",
       "    .dataframe thead th {\n",
       "        text-align: right;\n",
       "    }\n",
       "</style>\n",
       "<table border=\"1\" class=\"dataframe\">\n",
       "  <thead>\n",
       "    <tr style=\"text-align: right;\">\n",
       "      <th></th>\n",
       "      <th>1</th>\n",
       "      <th>2</th>\n",
       "      <th>3</th>\n",
       "      <th>4</th>\n",
       "      <th>5</th>\n",
       "      <th>6</th>\n",
       "    </tr>\n",
       "  </thead>\n",
       "  <tbody>\n",
       "    <tr>\n",
       "      <th>1</th>\n",
       "      <td>0</td>\n",
       "      <td>0.000058</td>\n",
       "      <td>0.000208</td>\n",
       "      <td>0.000251</td>\n",
       "      <td>0.000263</td>\n",
       "      <td>0.000033</td>\n",
       "    </tr>\n",
       "    <tr>\n",
       "      <th>2</th>\n",
       "      <td>0.000058</td>\n",
       "      <td>0</td>\n",
       "      <td>0.000261</td>\n",
       "      <td>0.000309</td>\n",
       "      <td>0.000321</td>\n",
       "      <td>0.000033</td>\n",
       "    </tr>\n",
       "    <tr>\n",
       "      <th>3</th>\n",
       "      <td>0.000208</td>\n",
       "      <td>0.000261</td>\n",
       "      <td>0</td>\n",
       "      <td>0.000096</td>\n",
       "      <td>0.000104</td>\n",
       "      <td>0.000229</td>\n",
       "    </tr>\n",
       "    <tr>\n",
       "      <th>4</th>\n",
       "      <td>0.000251</td>\n",
       "      <td>0.000309</td>\n",
       "      <td>0.000096</td>\n",
       "      <td>0</td>\n",
       "      <td>0.000043</td>\n",
       "      <td>0.000276</td>\n",
       "    </tr>\n",
       "    <tr>\n",
       "      <th>5</th>\n",
       "      <td>0.000263</td>\n",
       "      <td>0.000321</td>\n",
       "      <td>0.000104</td>\n",
       "      <td>0.000043</td>\n",
       "      <td>0</td>\n",
       "      <td>0.000288</td>\n",
       "    </tr>\n",
       "    <tr>\n",
       "      <th>6</th>\n",
       "      <td>0.000033</td>\n",
       "      <td>0.000033</td>\n",
       "      <td>0.000229</td>\n",
       "      <td>0.000276</td>\n",
       "      <td>0.000288</td>\n",
       "      <td>0</td>\n",
       "    </tr>\n",
       "  </tbody>\n",
       "</table>\n",
       "</div>"
      ],
      "text/plain": [
       "          1         2         3         4         5         6\n",
       "1         0  0.000058  0.000208  0.000251  0.000263  0.000033\n",
       "2  0.000058         0  0.000261  0.000309  0.000321  0.000033\n",
       "3  0.000208  0.000261         0  0.000096  0.000104  0.000229\n",
       "4  0.000251  0.000309  0.000096         0  0.000043  0.000276\n",
       "5  0.000263  0.000321  0.000104  0.000043         0  0.000288\n",
       "6  0.000033  0.000033  0.000229  0.000276  0.000288         0"
      ]
     },
     "execution_count": 5,
     "metadata": {},
     "output_type": "execute_result"
    }
   ],
   "source": [
    "from scipy.stats import wasserstein_distance\n",
    "import pandas as pd\n",
    "\n",
    "# Remove labels and normalize\n",
    "def preprocess_matrix(matrix):\n",
    "    numerical_matrix = matrix.iloc[1:, 1:].astype(float)\n",
    "    flat_matrix = numerical_matrix.values.flatten()\n",
    "    flat_matrix /= flat_matrix.sum()\n",
    "    return flat_matrix\n",
    "\n",
    "matrix_1 = pd.read_csv('/Users/judyz/Downloads/168 Project/all_too_well.csv', header=None)\n",
    "matrix_2 = pd.read_csv('/Users/judyz/Downloads/168 Project/baby.csv', header=None)\n",
    "matrix_3 = pd.read_csv('/Users/judyz/Downloads/168 Project/yellow.csv', header=None)\n",
    "matrix_4 = pd.read_csv('/Users/judyz/Downloads/168 Project/story_of_my_life.csv', header=None)\n",
    "matrix_5 = pd.read_csv('/Users/judyz/Downloads/168 Project/hey_soul_sister.csv', header=None)\n",
    "matrix_6 = pd.read_csv('/Users/judyz/Downloads/168 Project/riptide.csv', header=None)\n",
    "\n",
    "matrices = [matrix_1, matrix_2, matrix_3, matrix_4, matrix_5, matrix_6]\n",
    "\n",
    "# Preprocess all matrices\n",
    "preprocessed_matrices = [preprocess_matrix(m) for m in matrices]\n",
    "\n",
    "n = len(preprocessed_matrices)\n",
    "result_matrix = pd.DataFrame(index=range(1, n+1), columns=range(1, n+1))\n",
    "\n",
    "for i in range(n):\n",
    "    for j in range(n):\n",
    "        if i == j:\n",
    "            result_matrix.iloc[i, j] = 0\n",
    "        else:\n",
    "            result_matrix.iloc[i, j] = wasserstein_distance(preprocessed_matrices[i], preprocessed_matrices[j])\n",
    "            \n",
    "result_matrix"
   ]
  },
  {
   "cell_type": "markdown",
   "id": "0559e873",
   "metadata": {},
   "source": [
    "## dendrogram based on the similarity matrix"
   ]
  },
  {
   "cell_type": "code",
   "execution_count": 6,
   "id": "956d26f3",
   "metadata": {},
   "outputs": [
    {
     "data": {
      "image/png": "[encoded data removed]",
      "text/plain": [
       "<Figure size 640x480 with 1 Axes>"
      ]
     },
     "metadata": {},
     "output_type": "display_data"
    }
   ],
   "source": [
    "import matplotlib.pyplot as plt\n",
    "from scipy.cluster import hierarchy\n",
    "\n",
    "condensed_matrix = hierarchy.distance.squareform(result_matrix)\n",
    "\n",
    "# Perform hierarchical clustering using the condensed distance matrix\n",
    "Z = hierarchy.linkage(condensed_matrix, 'average')\n",
    "\n",
    "plt.figure()\n",
    "dn = hierarchy.dendrogram(Z)\n",
    "\n",
    "plt.show()"
   ]
  },
  {
   "cell_type": "code",
   "execution_count": null,
   "id": "01c7edfd",
   "metadata": {},
   "outputs": [],
   "source": [
    "import matplotlib.pyplot as plt\n",
    "from scipy.cluster import hierarchy\n",
    "\n",
    "condensed_matrix = hierarchy.distance.squareform(result_matrix)\n",
    "\n",
    "# Perform hierarchical clustering using the condensed distance matrix\n",
    "Z = hierarchy.linkage(condensed_matrix, 'average')\n",
    "\n",
    "# Set the labels\n",
    "labels = [\"All Too Well\", \"Baby\", \"Yellow\", \"Story of My Life\", \"Hey Soul Sister\", \"Riptide\"]\n",
    "\n",
    "fig, ax = plt.subplots(figsize=(10, 8))\n",
    "dendrogram(Z, labels=labels, ax=ax, leaf_rotation=90)\n",
    "\n",
    "plt.show()"
   ]
  },
  {
   "cell_type": "markdown",
   "id": "ca26c32c",
   "metadata": {},
   "source": [
    "## matrix multiplication"
   ]
  },
  {
   "cell_type": "code",
   "execution_count": null,
   "id": "64c508a1",
   "metadata": {},
   "outputs": [],
   "source": [
    "matrix_1 = pd.read_csv('/Users/judyz/Downloads/168 Project/all_too_well.csv', header=None)\n",
    "matrix_2 = pd.read_csv('/Users/judyz/Downloads/168 Project/baby.csv', header=None)\n",
    "matrix_3 = pd.read_csv('/Users/judyz/Downloads/168 Project/yellow.csv', header=None)\n",
    "matrix_4 = pd.read_csv('/Users/judyz/Downloads/168 Project/story_of_my_life.csv', header=None)\n",
    "matrix_5 = pd.read_csv('/Users/judyz/Downloads/168 Project/hey_soul_sister.csv', header=None)\n",
    "matrix_6 = pd.read_csv('/Users/judyz/Downloads/168 Project/riptide.csv', header=None)"
   ]
  },
  {
   "cell_type": "code",
   "execution_count": null,
   "id": "bc9a323b",
   "metadata": {},
   "outputs": [],
   "source": [
    "import numpy as np\n",
    "import pandas as pd\n",
    "\n",
    "normalized_matrix_1 = pd.read_csv('/Users/judyz/Downloads/168 Project/Normalized Matrix/normalized_all_too_well.csv', header=None)\n",
    "normalized_matrix_2 = pd.read_csv('/Users/judyz/Downloads/168 Project/Normalized Matrix/normalized_baby.csv', header=None)\n",
    "normalized_matrix_3 = pd.read_csv('/Users/judyz/Downloads/168 Project/Normalized Matrix/normalized_yellow.csv', header=None)\n",
    "normalized_matrix_4 = pd.read_csv('/Users/judyz/Downloads/168 Project/Normalized Matrix/normalized_story_of_my_life.csv', header=None)\n",
    "normalized_matrix_5 = pd.read_csv('/Users/judyz/Downloads/168 Project/Normalized Matrix/normalized_hey_soul_sister.csv', header=None)\n",
    "normalized_matrix_6 = pd.read_csv('/Users/judyz/Downloads/168 Project/Normalized Matrix/normalized_riptide.csv', header=None)\n",
    "\n",
    "matrices = [normalized_matrix_1, normalized_matrix_2, normalized_matrix_3, normalized_matrix_4, normalized_matrix_5, normalized_matrix_6]\n",
    "\n",
    "def preprocess_matrix(matrix):\n",
    "    numerical_matrix = matrix.iloc[1:, 1:].astype(float)\n",
    "    return numerical_matrix\n",
    "\n",
    "preprocessed_matrices = [preprocess_matrix(m) for m in matrices]\n",
    "\n",
    "# Multiply two matrices\n",
    "def multiply_matrices(m1, m2):\n",
    "    return np.dot(m1, m2)\n",
    "\n",
    "# Iterate over each unique pair of matrices and multiply them in both orders\n",
    "for i in range(len(preprocessed_matrices)):\n",
    "    for j in range(i+1, len(preprocessed_matrices)):\n",
    "        # Multiply matrices in one order\n",
    "        product_matrix_ij = multiply_matrices(preprocessed_matrices[i].values, preprocessed_matrices[j].values)\n",
    "        product_df_ij = pd.DataFrame(product_matrix_ij)\n",
    "        filename_ij = f'matrix_{i+1}_x_matrix_{j+1}.csv'\n",
    "        product_df_ij.to_csv(filename_ij, header=None, index=None)\n",
    "        print(f'Saved multiplication of matrix {i+1} and matrix {j+1} to {filename_ij}')\n",
    "\n",
    "        # Multiply matrices in reverse order\n",
    "        product_matrix_ji = multiply_matrices(preprocessed_matrices[j].values, preprocessed_matrices[i].values)\n",
    "        product_df_ji = pd.DataFrame(product_matrix_ji)\n",
    "        filename_ji = f'matrix_{j+1}_x_matrix_{i+1}.csv'\n",
    "        product_df_ji.to_csv(filename_ji, header=None, index=None)\n",
    "        print(f'Saved multiplication of matrix {j+1} and matrix {i+1} to {filename_ji}')"
   ]
  },
  {
   "cell_type": "markdown",
   "id": "40b24736",
   "metadata": {},
   "source": [
    "## generation of music"
   ]
  },
  {
   "cell_type": "code",
   "execution_count": null,
   "id": "507d7d71",
   "metadata": {},
   "outputs": [],
   "source": [
    "transformed_matrix_1 = pd.read_csv('/Users/judyz/Downloads/168 Project/Transition Matrix/transformed_all_too_well.csv', header=None)\n",
    "transformed_matrix_2 = pd.read_csv('/Users/judyz/Downloads/168 Project/Transition Matrix/transformed_baby.csv', header=None)\n",
    "transformed_matrix_3 = pd.read_csv('/Users/judyz/Downloads/168 Project/Transition Matrix/transformed_yellow.csv', header=None)\n",
    "transformed_matrix_4 = pd.read_csv('/Users/judyz/Downloads/168 Project/Transition Matrix/transformed_story_of_my_life.csv', header=None)\n",
    "transformed_matrix_5 = pd.read_csv('/Users/judyz/Downloads/168 Project/Transition Matrix/transformed_hey_soul_sister.csv', header=None)\n",
    "transformed_matrix_6 = pd.read_csv('/Users/judyz/Downloads/168 Project/Transition Matrix/transformed_riptide.csv', header=None)"
   ]
  },
  {
   "cell_type": "code",
   "execution_count": null,
   "id": "40aa41b5",
   "metadata": {},
   "outputs": [],
   "source": [
    "import pandas as pd\n",
    "\n",
    "transformed_matrix_1 = pd.read_csv('/Users/judyz/Downloads/168 Project/Transition Matrix/transformed_all_too_well.csv', header=None)\n",
    "transformed_matrix_2 = pd.read_csv('/Users/judyz/Downloads/168 Project/Transition Matrix/transformed_baby.csv', header=None)\n",
    "transformed_matrix_3 = pd.read_csv('/Users/judyz/Downloads/168 Project/Transition Matrix/transformed_yellow.csv', header=None)\n",
    "transformed_matrix_4 = pd.read_csv('/Users/judyz/Downloads/168 Project/Transition Matrix/transformed_story_of_my_life.csv', header=None)\n",
    "transformed_matrix_5 = pd.read_csv('/Users/judyz/Downloads/168 Project/Transition Matrix/transformed_hey_soul_sister.csv', header=None)\n",
    "transformed_matrix_6 = pd.read_csv('/Users/judyz/Downloads/168 Project/Transition Matrix/transformed_riptide.csv', header=None)\n",
    "\n",
    "matrices = [transformed_matrix_1, transformed_matrix_2,\n",
    "            transformed_matrix_3, transformed_matrix_4,\n",
    "            transformed_matrix_5, transformed_matrix_6]\n",
    "\n",
    "def preprocess_matrix(matrix):\n",
    "    numerical_matrix = matrix.iloc[1:, 1:].astype(float)\n",
    "    return numerical_matrix\n",
    "\n",
    "preprocessed_matrices = [preprocess_matrix(m) for m in matrices]\n",
    "\n",
    "# Calculate the average matrix\n",
    "average_matrix = sum(preprocessed_matrices) / len(preprocessed_matrices)\n",
    "\n",
    "# print(average_matrix)\n",
    "\n",
    "# Save\n",
    "average_matrix.to_csv('/Users/judyz/Downloads/168 Project/average_matrix.csv', index=False, header=False)"
   ]
  },
  {
   "cell_type": "markdown",
   "id": "408db094",
   "metadata": {},
   "source": [
    "## generating walk"
   ]
  },
  {
   "cell_type": "code",
   "execution_count": null,
   "id": "607d312d",
   "metadata": {},
   "outputs": [],
   "source": [
    "import pandas as pd\n",
    "import numpy as np\n",
    "\n",
    "def load_and_normalize_matrix(file_path):\n",
    "    transition_matrix = pd.read_csv(file_path, index_col=0)\n",
    "\n",
    "    # Normalize the transition matrix so that each row sums to 1\n",
    "    normalized_matrix = transition_matrix.div(transition_matrix.sum(axis=1), axis=0)\n",
    "\n",
    "    # Fix rows that sum to 0 by setting their diagonal to 1 (self-transition)\n",
    "    zero_sum_rows = normalized_matrix.sum(axis=1) == 0\n",
    "    normalized_matrix.loc[zero_sum_rows, zero_sum_rows.index] = 1\n",
    "\n",
    "    return normalized_matrix\n",
    "\n",
    "def simulate_markov_walk(transition_matrix, start_node, steps):\n",
    "    current_state = start_node\n",
    "    walk = [current_state]\n",
    "\n",
    "    for _ in range(steps):\n",
    "        probabilities = transition_matrix.loc[current_state]\n",
    "        next_state = np.random.choice(transition_matrix.columns, p=probabilities)\n",
    "        walk.append(next_state)\n",
    "        current_state = next_state\n",
    "\n",
    "    return walk\n",
    "\n",
    "file_path = '/Users/judyz/Downloads/168 Project/average_matrix.csv'\n",
    "\n",
    "normalized_transition_matrix = load_and_normalize_matrix(file_path)\n",
    "\n",
    "walk = simulate_markov_walk(normalized_transition_matrix, 'FCG', 100)\n",
    "#print(walk)\n",
    "\n",
    "normalized_transition_matrix.to_csv('/Users/judyz/Downloads/168 Project/normalized_matrix.csv', index=False, header=False)"
   ]
  },
  {
   "cell_type": "code",
   "execution_count": null,
   "id": "322cce1d",
   "metadata": {},
   "outputs": [],
   "source": [
    "filtered_walk_elements = ''.join([node for index, node in enumerate(walk) if index % 3 == 0])\n",
    "\n",
    "filtered_walk_elements"
   ]
  },
  {
   "cell_type": "code",
   "execution_count": null,
   "id": "eb275fb0",
   "metadata": {},
   "outputs": [],
   "source": [
    "import pandas as pd\n",
    "import numpy as np\n",
    "import random\n",
    "\n",
    "random.seed(69)\n",
    "\n",
    "def load_and_normalize_matrix(file_path):\n",
    "    transition_matrix = pd.read_csv(file_path, index_col=0)\n",
    "\n",
    "    # Normalize the transition matrix so that each row sums to 1\n",
    "    normalized_matrix = transition_matrix.div(transition_matrix.sum(axis=1), axis=0)\n",
    "\n",
    "    # Fix rows that sum to 0 by setting their diagonal to 1 (self-transition)\n",
    "    zero_sum_rows = normalized_matrix.sum(axis=1) == 0\n",
    "    normalized_matrix.loc[zero_sum_rows, zero_sum_rows.index] = 1\n",
    "\n",
    "    return normalized_matrix\n",
    "\n",
    "def simulate_markov_walk(transition_matrix, start_node, steps):\n",
    "    current_state = start_node\n",
    "    walk = [current_state]\n",
    "\n",
    "    for _ in range(steps):\n",
    "        probabilities = transition_matrix.loc[current_state]\n",
    "        next_state = np.random.choice(transition_matrix.columns, p=probabilities)\n",
    "        walk.append(next_state)\n",
    "        current_state = next_state\n",
    "\n",
    "    return walk\n",
    "\n",
    "file_path = '/Users/judyz/Downloads/168 Project/average_matrix.csv'\n",
    "\n",
    "normalized_transition_matrix = load_and_normalize_matrix(file_path)\n",
    "\n",
    "walk = simulate_markov_walk(normalized_transition_matrix, 'FCG', 30)\n",
    "# print(walk)\n",
    "\n",
    "normalized_transition_matrix.to_csv('/Users/judyz/Downloads/168 Project/normalized_matrix.csv', index=False, header=False)"
   ]
  },
  {
   "cell_type": "code",
   "execution_count": null,
   "id": "df6a107f",
   "metadata": {},
   "outputs": [],
   "source": [
    "filtered_walk_elements = ''.join([node for index, node in enumerate(walk) if index % 3 == 0])\n",
    "\n",
    "filtered_walk_elements"
   ]
  }
 ],
 "metadata": {
  "kernelspec": {
   "display_name": "Python [conda env:PIC16B] *",
   "language": "python",
   "name": "conda-env-PIC16B-py"
  },
  "language_info": {
   "codemirror_mode": {
    "name": "ipython",
    "version": 3
   },
   "file_extension": ".py",
   "mimetype": "text/x-python",
   "name": "python",
   "nbconvert_exporter": "python",
   "pygments_lexer": "ipython3",
   "version": "3.9.18"
  }
 },
 "nbformat": 4,
 "nbformat_minor": 5
}
